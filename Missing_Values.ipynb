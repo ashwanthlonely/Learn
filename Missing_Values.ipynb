{
  "nbformat": 4,
  "nbformat_minor": 0,
  "metadata": {
    "colab": {
      "provenance": [],
      "mount_file_id": "1asqkAlhAjsO5taY6s5szozTfZFHoHH1h",
      "authorship_tag": "ABX9TyNfCQx8iKSCqkiY4N04S8iQ",
      "include_colab_link": true
    },
    "kernelspec": {
      "name": "python3",
      "display_name": "Python 3"
    },
    "language_info": {
      "name": "python"
    }
  },
  "cells": [
    {
      "cell_type": "markdown",
      "metadata": {
        "id": "view-in-github",
        "colab_type": "text"
      },
      "source": [
        "<a href=\"https://colab.research.google.com/github/ashwanthlonely/Learn/blob/main/Missing_Values.ipynb\" target=\"_parent\"><img src=\"https://colab.research.google.com/assets/colab-badge.svg\" alt=\"Open In Colab\"/></a>"
      ]
    },
    {
      "cell_type": "code",
      "execution_count": null,
      "metadata": {
        "id": "DbI2T6SaYM8T"
      },
      "outputs": [],
      "source": [
        "import pandas as pd\n",
        "import numpy as np\n",
        "from sklearn.model_selection import train_test_split"
      ]
    },
    {
      "cell_type": "code",
      "source": [
        "from google.colab import drive\n",
        "drive.mount('/content/drive')"
      ],
      "metadata": {
        "colab": {
          "base_uri": "https://localhost:8080/"
        },
        "id": "glbSrLX_FOM2",
        "outputId": "0934095d-39e2-4740-e0d2-568b0cda8531"
      },
      "execution_count": null,
      "outputs": [
        {
          "output_type": "stream",
          "name": "stdout",
          "text": [
            "Drive already mounted at /content/drive; to attempt to forcibly remount, call drive.mount(\"/content/drive\", force_remount=True).\n"
          ]
        }
      ]
    },
    {
      "cell_type": "code",
      "source": [
        "df= pd.read_csv('/content/drive/MyDrive/dataset/melb_data.csv')"
      ],
      "metadata": {
        "id": "q20KX-qIYX9X"
      },
      "execution_count": null,
      "outputs": []
    },
    {
      "cell_type": "code",
      "source": [
        "y=df.Price"
      ],
      "metadata": {
        "id": "PT_BbGgUYkez"
      },
      "execution_count": null,
      "outputs": []
    },
    {
      "cell_type": "code",
      "source": [
        "melb_predictors=df.drop(['Price'], axis=1)"
      ],
      "metadata": {
        "id": "p_TJNHaCZIDY"
      },
      "execution_count": null,
      "outputs": []
    },
    {
      "cell_type": "code",
      "source": [
        "X=melb_predictors.select_dtypes(exclude=['object'])"
      ],
      "metadata": {
        "id": "IvBNauPpkutl"
      },
      "execution_count": null,
      "outputs": []
    },
    {
      "cell_type": "code",
      "source": [
        "X_train, X_valid, y_train, y_valid= train_test_split(X,y, test_size=0.1, random_state=42)"
      ],
      "metadata": {
        "id": "cndoGCC0Gd_t"
      },
      "execution_count": null,
      "outputs": []
    },
    {
      "cell_type": "markdown",
      "source": [
        "Define Function to Measure Quality of Each Approach¶\n",
        "We define a function score_dataset() to compare different approaches to dealing with missing values. This function reports the mean absolute error (MAE) from a random forest model.\n",
        "\n"
      ],
      "metadata": {
        "id": "dR-XHUGJG-wk"
      }
    },
    {
      "cell_type": "code",
      "source": [
        "from sklearn.ensemble import RandomForestRegressor\n",
        "from sklearn.metrics import mean_absolute_error\n",
        "\n",
        "def score_dataset(X_train, X_valid, y_train, y_valid):\n",
        "  model=RandomForestRegressor(n_estimators=10, random_state=0)\n",
        "  model.fit(X_train, y_train)\n",
        "  preds=model.predict(X_valid)\n",
        "  return mean_absolute_error(y_valid, preds)"
      ],
      "metadata": {
        "id": "Y6mFgvfvGzf6"
      },
      "execution_count": null,
      "outputs": []
    },
    {
      "cell_type": "markdown",
      "source": [
        "Score from Approach 1 (Drop Columns with Missing Values)¶\n",
        "Since we are working with both training and validation sets, we are careful to drop the same columns in both DataFrames.\n",
        "\n"
      ],
      "metadata": {
        "id": "wwlkfhGfHxPt"
      }
    },
    {
      "cell_type": "code",
      "source": [
        "cols_with_missing= [col for col in X_train.columns if X_train[col].isnull().any()]\n",
        "reduced_X_train=X_train.drop(cols_with_missing, axis=1)\n",
        "reduced_X_valid=X_valid.drop(cols_with_missing, axis=1)\n",
        "print(\"MAE from approach 1 (drop columns with missing values):\")\n",
        "print(score_dataset(reduced_X_train, reduced_X_valid, y_train, y_valid))"
      ],
      "metadata": {
        "colab": {
          "base_uri": "https://localhost:8080/"
        },
        "id": "MTjQ2H7UHoQH",
        "outputId": "c2380b2b-f549-4015-e5de-fa2a2b19abc5"
      },
      "execution_count": null,
      "outputs": [
        {
          "output_type": "stream",
          "name": "stdout",
          "text": [
            "MAE from approach 1 (drop columns with missing values):\n",
            "190529.05409916543\n"
          ]
        }
      ]
    },
    {
      "cell_type": "markdown",
      "source": [
        "Score from Approach 2 (Imputation)¶\n",
        "Next, we use SimpleImputer to replace missing values with the mean value along each column.\n",
        "\n",
        "Although it's simple, filling in the mean value generally performs quite well (but this varies by dataset). While statisticians have experimented with more complex ways to determine imputed values (such as regression imputation, for instance), the complex strategies typically give no additional benefit once you plug the results into sophisticated machine learning models.\n",
        "\n"
      ],
      "metadata": {
        "id": "ZYQ9e_hiJ4fX"
      }
    },
    {
      "cell_type": "code",
      "source": [
        "from sklearn.impute import SimpleImputer\n",
        "\n",
        "my_imputer=SimpleImputer()\n",
        "imputed_X_train=pd.DataFrame(my_imputer.fit_transform(X_train))\n",
        "imputed_X_valid=pd.DataFrame(my_imputer.transform(X_valid))\n",
        "\n",
        "imputed_X_train.columns=X_train.columns\n",
        "imputed_X_valid.columns=X_valid.columns\n",
        "\n",
        "print(\"MAE from Aproach 2 (Imputation):\")\n",
        "print(score_dataset(imputed_X_train, imputed_X_valid, y_train, y_valid))"
      ],
      "metadata": {
        "colab": {
          "base_uri": "https://localhost:8080/"
        },
        "id": "qh4MByNEH-d2",
        "outputId": "8f6c55f9-25ba-4e4f-8183-3da78e2465ec"
      },
      "execution_count": null,
      "outputs": [
        {
          "output_type": "stream",
          "name": "stdout",
          "text": [
            "MAE from Aproach 2 (Imputation):\n",
            "178339.54558173785\n"
          ]
        }
      ]
    },
    {
      "cell_type": "markdown",
      "source": [
        "We see that Approach 2 has lower MAE than Approach 1, so Approach 2 performed better on this dataset.\n",
        "\n",
        "Score from Approach 3 (An Extension to Imputation)\n",
        "Next, we impute the missing values, while also keeping track of which values were imputed.\n",
        "\n"
      ],
      "metadata": {
        "id": "Y2Pm99FaLKos"
      }
    },
    {
      "cell_type": "code",
      "source": [
        "X_train_plus=X_train.copy()\n",
        "X_valid_plus=X_valid.copy()\n",
        "\n",
        "for col in cols_with_missing:\n",
        "  X_train_plus[col + '_was_missing']=X_train_plus[col].isnull()\n",
        "  X_valid_plus[col + '_was_missing']=X_valid_plus[col].isnull()\n",
        "\n",
        "#imputation\n",
        "\n",
        "My_imputer=SimpleImputer()\n",
        "imputed_X_train_plus=pd.DataFrame(my_imputer.fit_transform(X_train_plus))\n",
        "imputed_X_valid_plus=pd.DataFrame(my_imputer.transform(X_valid_plus))\n",
        "\n",
        "imputed_X_train_plus.columns=X_train_plus.columns\n",
        "imputed_X_valid_plus.columns=X_valid_plus.columns\n",
        "\n",
        "print(\"MAE from Approach 3 (An Extension to Imputation):\")\n",
        "print(score_dataset(imputed_X_train_plus, imputed_X_valid_plus, y_train, y_valid))"
      ],
      "metadata": {
        "colab": {
          "base_uri": "https://localhost:8080/"
        },
        "id": "aT2k2mNhLEov",
        "outputId": "f86847c7-bca0-48d7-d9b3-d13319588425"
      },
      "execution_count": null,
      "outputs": [
        {
          "output_type": "stream",
          "name": "stdout",
          "text": [
            "MAE from Approach 3 (An Extension to Imputation):\n",
            "177621.39934778033\n"
          ]
        }
      ]
    },
    {
      "cell_type": "code",
      "source": [
        "print(X_train.shape)\n",
        "missing_val_count_by_column=(X_train.isnull().sum())\n",
        "print(missing_val_count_by_column[missing_val_count_by_column > 0])"
      ],
      "metadata": {
        "colab": {
          "base_uri": "https://localhost:8080/"
        },
        "id": "CiNqKyZVNFls",
        "outputId": "a6e349df-dd12-41d3-add5-e25ad70250d0"
      },
      "execution_count": null,
      "outputs": [
        {
          "output_type": "stream",
          "name": "stdout",
          "text": [
            "(12222, 12)\n",
            "Car               58\n",
            "BuildingArea    5803\n",
            "YearBuilt       4847\n",
            "dtype: int64\n"
          ]
        }
      ]
    },
    {
      "cell_type": "markdown",
      "source": [],
      "metadata": {
        "id": "0XQiXI_cQBNn"
      }
    },
    {
      "cell_type": "markdown",
      "source": [
        "Conclusion¶\n",
        "As is common, imputing missing values (in Approach 2 and Approach 3) yielded better results, relative to when we simply dropped columns with missing values (in Approach 1).\n",
        "\n"
      ],
      "metadata": {
        "id": "XHKe3vIJOoTI"
      }
    },
    {
      "cell_type": "code",
      "source": [],
      "metadata": {
        "id": "c_AGtQJjOf4G"
      },
      "execution_count": null,
      "outputs": []
    }
  ]
}